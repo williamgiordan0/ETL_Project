{
 "cells": [
  {
   "cell_type": "code",
   "execution_count": 9,
   "metadata": {},
   "outputs": [],
   "source": [
    "#Dependencies\n",
    "\n",
    "from bs4 import BeautifulSoup\n",
    "import requests"
   ]
  },
  {
   "cell_type": "code",
   "execution_count": 10,
   "metadata": {},
   "outputs": [],
   "source": [
    "url ='https://www.basketball-reference.com/gleague/teams/MEM/2020.html'\n",
    "response = requests.get(url)\n",
    "soup = BeautifulSoup(response.text, 'html.parser')"
   ]
  },
  {
   "cell_type": "code",
   "execution_count": 12,
   "metadata": {},
   "outputs": [
    {
     "data": {
      "text/plain": [
       "['Dusty Hannahs',\n",
       " 'Josh Jackson',\n",
       " 'Marko Guduric',\n",
       " 'Jarrod Uthoff',\n",
       " \"De'Anthony Melton\",\n",
       " 'Yuta Watanabe',\n",
       " 'Matt Mooney',\n",
       " 'Marquis Teague',\n",
       " 'John Konchar',\n",
       " 'Bruno Caboclo',\n",
       " 'Shaq Buchanan',\n",
       " 'Ahmad Caver',\n",
       " 'Rahlir Hollis-Jefferson',\n",
       " 'Venky Jois',\n",
       " 'Nino Johnson',\n",
       " 'Raynere Thornton']"
      ]
     },
     "execution_count": 12,
     "metadata": {},
     "output_type": "execute_result"
    }
   ],
   "source": [
    "### Data\n",
    "result1 = soup.find_all('td', class_='left')\n",
    "\n",
    "names = []\n",
    "for result in result1:\n",
    "    names.append(result.a.text)\n",
    "\n",
    "names\n",
    "\n",
    "#soup2 = BeautifulSoup(result, 'html.parser')\n",
    "#soup2"
   ]
  },
  {
   "cell_type": "code",
   "execution_count": null,
   "metadata": {},
   "outputs": [],
   "source": []
  }
 ],
 "metadata": {
  "kernelspec": {
   "display_name": "Python 3",
   "language": "python",
   "name": "python3"
  },
  "language_info": {
   "codemirror_mode": {
    "name": "ipython",
    "version": 3
   },
   "file_extension": ".py",
   "mimetype": "text/x-python",
   "name": "python",
   "nbconvert_exporter": "python",
   "pygments_lexer": "ipython3",
   "version": "3.6.9"
  }
 },
 "nbformat": 4,
 "nbformat_minor": 2
}
